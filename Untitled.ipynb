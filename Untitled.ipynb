{
 "cells": [
  {
   "cell_type": "markdown",
   "id": "b69b5652",
   "metadata": {},
   "source": [
    "# Data Science Tools and Ecosystem"
   ]
  },
  {
   "cell_type": "markdown",
   "id": "a8841cd7",
   "metadata": {},
   "source": [
    "In this notebook, Data Science Tools and Ecosystem are summarized."
   ]
  },
  {
   "cell_type": "markdown",
   "id": "b0eaa4cb",
   "metadata": {},
   "source": [
    "# Ordered List\n",
    "# 1.Python\n",
    "# 2.R\n",
    "# 3.SQL\n",
    "# 4.MongoDb"
   ]
  },
  {
   "cell_type": "markdown",
   "id": "e0e37e23",
   "metadata": {},
   "source": [
    "# 1.Matplotlib\n",
    "# 2.Numpy\n",
    "# 3.pandas\n",
    "# 4.sckit-learn"
   ]
  },
  {
   "cell_type": "markdown",
   "id": "b97e1524",
   "metadata": {},
   "source": [
    "# Data Science Tools\n",
    "\n",
    "| Data Science Tools |\n",
    "| ------------------ |\n",
    "| Jupyter Notebook   |\n",
    "| RStudio            |\n",
    "| VS Code            |\n"
   ]
  },
  {
   "cell_type": "markdown",
   "id": "fc1384b8",
   "metadata": {},
   "source": [
    "### Below are a few examples of evaluating arithmetic expressions in Python.\n"
   ]
  },
  {
   "cell_type": "code",
   "execution_count": 2,
   "id": "97b69060",
   "metadata": {},
   "outputs": [
    {
     "name": "stdout",
     "output_type": "stream",
     "text": [
      "17\n"
     ]
    }
   ],
   "source": [
    "# This a simple arithmetic expression to mutiply then add integers\n",
    "print((3*4)+5)"
   ]
  },
  {
   "cell_type": "code",
   "execution_count": 4,
   "id": "946da637",
   "metadata": {},
   "outputs": [
    {
     "name": "stdout",
     "output_type": "stream",
     "text": [
      "Hours : 3.3333333333333335\n"
     ]
    }
   ],
   "source": [
    "# minutes to hours\n",
    "print('Hours :',200/60)\n"
   ]
  },
  {
   "cell_type": "markdown",
   "id": "12028c6f",
   "metadata": {},
   "source": [
    "**Objectives:**\n",
    "\n",
    "- List popular languages for Data Science.\n",
    "- Introduce commonly used libraries in Data Science.\n",
    "- Present development environment tools for Data Science.\n",
    "- Provide examples of evaluating arithmetic expressions in Python.\n",
    "- Cover key takeaways from the course.\n"
   ]
  },
  {
   "cell_type": "markdown",
   "id": "f50f5561",
   "metadata": {},
   "source": [
    "## Author\n",
    "Akshit Aggarwal"
   ]
  },
  {
   "cell_type": "code",
   "execution_count": null,
   "id": "0aea281c",
   "metadata": {},
   "outputs": [],
   "source": []
  }
 ],
 "metadata": {
  "kernelspec": {
   "display_name": "Python 3 (ipykernel)",
   "language": "python",
   "name": "python3"
  },
  "language_info": {
   "codemirror_mode": {
    "name": "ipython",
    "version": 3
   },
   "file_extension": ".py",
   "mimetype": "text/x-python",
   "name": "python",
   "nbconvert_exporter": "python",
   "pygments_lexer": "ipython3",
   "version": "3.9.13"
  }
 },
 "nbformat": 4,
 "nbformat_minor": 5
}
